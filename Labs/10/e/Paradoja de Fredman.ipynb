{
 "cells": [
  {
   "cell_type": "markdown",
   "metadata": {},
   "source": [
    "# Paradoja de Fredmann\n",
    "Llenamos las matrices de forma aleatoria con $\\mu=0$ y $\\sigma=1$"
   ]
  },
  {
   "cell_type": "code",
   "execution_count": 40,
   "metadata": {},
   "outputs": [],
   "source": [
    "import numpy as np\n",
    "import random\n",
    "import sys\n",
    "from scipy.stats import f\n",
    "from scipy.stats import norm"
   ]
  },
  {
   "cell_type": "code",
   "execution_count": 60,
   "metadata": {},
   "outputs": [],
   "source": [
    "#np.random.seed(500)\n",
    "n=100 # mediciones efectuadas\n",
    "p=50 # variables medidas\n",
    "mu=0.0\n",
    "sigma=1.0\n",
    "X=np.random.normal(mu,sigma,size=(n,p))\n",
    "Y=np.random.normal(mu,sigma,size=(n,1))\n",
    "XT=X.T\n",
    "YT=Y.T\n",
    "Inv=np.linalg.inv(np.matmul(XT,X))\n",
    "beta1=np.matmul(Inv,XT)\n",
    "beta=np.matmul(beta1,Y)\n",
    "Hhat=np.matmul(X,beta1)\n",
    "Yideal=np.matmul(X,beta)"
   ]
  },
  {
   "cell_type": "code",
   "execution_count": 61,
   "metadata": {},
   "outputs": [],
   "source": [
    "SST1=np.matmul(np.identity(n)-(1.0/n)*np.ones((n,n)),Y)\n",
    "SST=np.matmul(YT,SST1)\n",
    "SSR1=np.matmul(Hhat-(1.0/n)*np.ones((n,n)),Y)\n",
    "SSR=np.matmul(YT,SSR1)\n",
    "SSE1=np.matmul(np.identity(n)-Hhat,Y)\n",
    "SSE=np.matmul(YT,SSE1)"
   ]
  },
  {
   "cell_type": "markdown",
   "metadata": {},
   "source": [
    "Se calcula el $R^2$"
   ]
  },
  {
   "cell_type": "code",
   "execution_count": 62,
   "metadata": {},
   "outputs": [
    {
     "name": "stdout",
     "output_type": "stream",
     "text": [
      "0.6107312023176885\n"
     ]
    }
   ],
   "source": [
    "Rsq=SSR[0,0]/SST[0,0]\n",
    "print(Rsq)"
   ]
  },
  {
   "cell_type": "markdown",
   "metadata": {},
   "source": [
    "Se calcula el valor de $\\sigma^2$"
   ]
  },
  {
   "cell_type": "code",
   "execution_count": 63,
   "metadata": {},
   "outputs": [],
   "source": [
    "sigma2=SSE[0,0]/(n-1.)\n",
    "sigmamatrix=sigma2*Inv\n",
    "sigma_i=np.zeros(p)\n",
    "for i in range(p):\n",
    "    sigma_i[i]=sigmamatrix[i,i]\n",
    "sigma_i=np.sqrt(sigma_i)"
   ]
  },
  {
   "cell_type": "code",
   "execution_count": 64,
   "metadata": {},
   "outputs": [],
   "source": [
    "MSE=SSE[0,0]/(n-p-1)\n",
    "# Calculamos el MSR\n",
    "MSR=SSR[0,0]/p\n",
    "# Calculamos el MST\n",
    "MST=SST[0,0]/(n-1)"
   ]
  },
  {
   "cell_type": "markdown",
   "metadata": {},
   "source": [
    "Calculamos F"
   ]
  },
  {
   "cell_type": "code",
   "execution_count": 65,
   "metadata": {},
   "outputs": [
    {
     "name": "stdout",
     "output_type": "stream",
     "text": [
      "1.5375405936331783\n"
     ]
    }
   ],
   "source": [
    "F=(Rsq*(n-p-1))/((1-Rsq)*p)\n",
    "print(F)"
   ]
  },
  {
   "cell_type": "code",
   "execution_count": 66,
   "metadata": {},
   "outputs": [],
   "source": [
    "Rango=0.9 # se define un rango, es decir cuanto porcentaje de la curva se quiere\n",
    "Ftest=f.ppf(Rango,p,n-(p+1))\n",
    "P_i=np.zeros(p)\n",
    "if F > Ftest:\n",
    "    tzeros=beta[:,0]/sigma_i\n",
    "    P_value=2*(1-norm.cdf(tzeros)) # se integran las colas\n",
    "    for i in range(p):\n",
    "        if P_value[i]<0.5:\n",
    "            P_i[i]=1\n",
    "        else:\n",
    "            P_i[i]=0\n",
    "else:\n",
    "    print(\"paila\")\n",
    "    #quit()"
   ]
  },
  {
   "cell_type": "code",
   "execution_count": 75,
   "metadata": {},
   "outputs": [],
   "source": [
    "p_prime=np.sum(P_i)\n",
    "X_new=np.zeros((n,int(p_prime)))\n",
    "aux=0\n",
    "for i in range(p):\n",
    "    if P_i[i]==1:\n",
    "        X_new[:,aux]=X[:,i]\n",
    "        aux+=1\n",
    "X_newT=X_new.T\n",
    "Inv_new=np.linalg.inv(np.matmul(X_newT,X_new))\n",
    "beta1_new=np.matmul(Inv_new,X_newT)"
   ]
  },
  {
   "cell_type": "code",
   "execution_count": null,
   "metadata": {},
   "outputs": [],
   "source": []
  },
  {
   "cell_type": "code",
   "execution_count": 72,
   "metadata": {},
   "outputs": [
    {
     "data": {
      "text/plain": [
       "1.0"
      ]
     },
     "execution_count": 72,
     "metadata": {},
     "output_type": "execute_result"
    }
   ],
   "source": []
  },
  {
   "cell_type": "code",
   "execution_count": null,
   "metadata": {},
   "outputs": [],
   "source": []
  },
  {
   "cell_type": "code",
   "execution_count": null,
   "metadata": {},
   "outputs": [],
   "source": []
  }
 ],
 "metadata": {
  "kernelspec": {
   "display_name": "Python 3",
   "language": "python",
   "name": "python3"
  },
  "language_info": {
   "codemirror_mode": {
    "name": "ipython",
    "version": 3
   },
   "file_extension": ".py",
   "mimetype": "text/x-python",
   "name": "python",
   "nbconvert_exporter": "python",
   "pygments_lexer": "ipython3",
   "version": "3.7.1"
  }
 },
 "nbformat": 4,
 "nbformat_minor": 2
}
