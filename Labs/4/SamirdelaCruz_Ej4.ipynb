{
 "cells": [
  {
   "cell_type": "code",
   "execution_count": 4,
   "metadata": {},
   "outputs": [],
   "source": [
    "import matplotlib.pyplot as plt\n",
    "import numpy as np\n",
    "import random"
   ]
  },
  {
   "cell_type": "code",
   "execution_count": 5,
   "metadata": {},
   "outputs": [],
   "source": [
    "class Ubicacion(object):\n",
    "    def __init__(self,x,y):\n",
    "        self.x=x\n",
    "        self.y=y\n",
    "    def Muevase(self,dx,dy):\n",
    "        return Ubicacion(self.x+dx,self.y+dy)\n",
    "    def Donde_esta_x(self):\n",
    "        return self.x\n",
    "    def Donde_esta_y(self):\n",
    "        return self.y\n",
    "    def Distancia_desde(self,otro):\n",
    "        return np.sqrt((self.x-otro.x)**2+(self.y-otro.y)**2)\n",
    "    "
   ]
  },
  {
   "cell_type": "code",
   "execution_count": 6,
   "metadata": {},
   "outputs": [],
   "source": [
    "class Campo(object):\n",
    "    def __init__(self):\n",
    "        self.borrachos={}\n",
    "    def Agregue_Borracho(self,nombre,loc):\n",
    "        if nombre in self.borrachos:\n",
    "            raise ValueError(\"PP\")\n",
    "        else:\n",
    "            self.borrachos[nombre]=loc\n",
    "    def Tener_loc(self, borracho):\n",
    "        if borracho not in self.borrachos:\n",
    "            raise ValueError(\"PP2\")\n",
    "        else:\n",
    "            return self.borrachos[borracho]\n",
    "    def Mueva_el_borracho(self,ebrio):\n",
    "        if ebrio not in self.borrachos:\n",
    "            raise ValueError(\"PP3\")\n",
    "        else:\n",
    "            dx,dy=ebrio.Avance()\n",
    "            loc_actual=self.borrachos[ebrio]\n",
    "            self.borrachos[ebrio]=loc_actual.Muevase(dx,dy)"
   ]
  },
  {
   "cell_type": "code",
   "execution_count": 7,
   "metadata": {},
   "outputs": [],
   "source": [
    "class Borracho(object):\n",
    "    def __init__(self,nombre=None):\n",
    "        self.nombre=nombre\n",
    "    def __str__(self):\n",
    "        return str(nombre)\n",
    "     "
   ]
  },
  {
   "cell_type": "code",
   "execution_count": 8,
   "metadata": {},
   "outputs": [],
   "source": [
    "class Tipico_Borracho(Borracho):\n",
    "    def Avance(self):\n",
    "        posiciones=[(0,-1),(0,1),(1,0),(-1,0)]\n",
    "        return random.choice(posiciones)\n",
    "    "
   ]
  },
  {
   "cell_type": "code",
   "execution_count": 9,
   "metadata": {},
   "outputs": [],
   "source": [
    "class Borracho_con_frio(Borracho):\n",
    "    def Avance(self):\n",
    "        posiciones=[(0,-1.1),(0,0.9),(1,0),(-1,0)]\n",
    "        return random.choice(posiciones)"
   ]
  },
  {
   "cell_type": "code",
   "execution_count": 10,
   "metadata": {},
   "outputs": [],
   "source": [
    "def caminata(campo,ebrio,Num_pasos):\n",
    "    inicio=campo.Tener_loc(ebrio)\n",
    "    for pasos in range(Num_pasos):\n",
    "        campo.Mueva_el_borracho(ebrio)\n",
    "    return inicio.Distancia_desde(campo.Tener_loc(ebrio))\n"
   ]
  },
  {
   "cell_type": "code",
   "execution_count": 11,
   "metadata": {},
   "outputs": [],
   "source": [
    "def simular_caminata(Num_pasos,Num_intentos,tipo_de_borracho):\n",
    "    mi_Borracho= tipo_de_borracho()\n",
    "    origen=Ubicacion(0,0)\n",
    "    distancias=[]\n",
    "    for i in range(Num_intentos):\n",
    "        c=Campo()\n",
    "        c.Agregue_Borracho(mi_Borracho,origen)\n",
    "        distancias.append(round(caminata(c,mi_Borracho,Num_pasos),2))\n",
    "    return distancias"
   ]
  },
  {
   "cell_type": "code",
   "execution_count": 21,
   "metadata": {},
   "outputs": [],
   "source": [
    "def Testear_Borracho(longitud_caminata,Num_intentos,tipo_borracho):\n",
    "    distancias_p=[]\n",
    "    num_P=[]\n",
    "    for num_pasos in longitud_caminata:\n",
    "        distancias = simular_caminata(num_pasos,Num_intentos,tipo_borracho)\n",
    "        p=sum(distancias)/len(distancias)\n",
    "        #print(tipo_borracho.__name__,\"Caminata aleatoria de\",num_pasos,\"pasos\")\n",
    "        #print(\"promedio\",p)\n",
    "        #print(\"maximo\",np.max(distancias),\"minimo\",np.min(distancias))\n",
    "        distancias_p.append(p)\n",
    "        num_P.append(num_pasos)\n",
    "    return num_P, distancias_p\n"
   ]
  },
  {
   "cell_type": "code",
   "execution_count": 22,
   "metadata": {},
   "outputs": [],
   "source": [
    "def Simular_todos(tipo_borrachos,longitud_caminata,Num_intentos):\n",
    "    for tipo_borracho in tipo_borrachos:\n",
    "        Testear_Borracho(longitud_caminata,Num_intentos,tipo_borracho)"
   ]
  },
  {
   "cell_type": "code",
   "execution_count": 28,
   "metadata": {},
   "outputs": [
    {
     "data": {
      "text/plain": [
       "<matplotlib.legend.Legend at 0x7f00efd3ebe0>"
      ]
     },
     "execution_count": 28,
     "metadata": {},
     "output_type": "execute_result"
    },
    {
     "data": {
      "image/png": "[encoded data removed]",
      "text/plain": [
       "<Figure size 432x288 with 1 Axes>"
      ]
     },
     "metadata": {
      "needs_background": "light"
     },
     "output_type": "display_data"
    }
   ],
   "source": [
    "random.seed(0)\n",
    "x,y=Testear_Borracho(np.arange(10,1000,10),100,Tipico_Borracho)\n",
    "x1,y1=Testear_Borracho(np.arange(10,1000,10),100,Borracho_con_frio)\n",
    "plt.scatter(x,y,c=\"b\",label=\"Tipico_Borracho\")\n",
    "plt.scatter(x1,y1,c=\"r\",label=\"Borracho_con_frio\")\n",
    "plt.legend()"
   ]
  },
  {
   "cell_type": "code",
   "execution_count": 27,
   "metadata": {},
   "outputs": [
    {
     "data": {
      "text/plain": [
       "<matplotlib.legend.Legend at 0x7f00f7047550>"
      ]
     },
     "execution_count": 27,
     "metadata": {},
     "output_type": "execute_result"
    },
    {
     "data": {
      "image/png": "[encoded data removed]",
      "text/plain": [
       "<Figure size 432x288 with 1 Axes>"
      ]
     },
     "metadata": {
      "needs_background": "light"
     },
     "output_type": "display_data"
    }
   ],
   "source": []
  },
  {
   "cell_type": "code",
   "execution_count": null,
   "metadata": {},
   "outputs": [],
   "source": []
  },
  {
   "cell_type": "code",
   "execution_count": null,
   "metadata": {},
   "outputs": [],
   "source": []
  }
 ],
 "metadata": {
  "kernelspec": {
   "display_name": "Python 3",
   "language": "python",
   "name": "python3"
  },
  "language_info": {
   "codemirror_mode": {
    "name": "ipython",
    "version": 3
   },
   "file_extension": ".py",
   "mimetype": "text/x-python",
   "name": "python",
   "nbconvert_exporter": "python",
   "pygments_lexer": "ipython3",
   "version": "3.6.7"
  }
 },
 "nbformat": 4,
 "nbformat_minor": 2
}
