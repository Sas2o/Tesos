{
 "cells": [
  {
   "cell_type": "code",
   "execution_count": 97,
   "metadata": {},
   "outputs": [
    {
     "data": {
      "text/plain": [
       "[<matplotlib.lines.Line2D at 0x7f3aa4821320>]"
      ]
     },
     "execution_count": 97,
     "metadata": {},
     "output_type": "execute_result"
    }
   ],
   "source": [
    "from time import time\n",
    "import numpy as np\n",
    "import matplotlib.pyplot as plt\n",
    "\n",
    "def transcribir(DNA):\n",
    "    dna=\"\"\n",
    "    for i in DNA:\n",
    "        if i=='T':\n",
    "            dna+='U'\n",
    "        else:\n",
    "            dna+=i\n",
    "    return dna\n",
    "\n",
    "def f(n):\n",
    "    suma=0\n",
    "    for i in range(1,n+1):\n",
    "        suma+=1/(i**2)\n",
    "    pi=(6*suma)**(0.5)\n",
    "    error=100*abs(pi-np.pi)/np.pi\n",
    "    return pi\n",
    "\n",
    "x=[10**2,10**3,10**5,10**7]\n",
    "y=[]\n",
    "\n",
    "for i in x:\n",
    "    y.append(f(i))\n",
    "    \n",
    "plt.plot(x,y)\n"
   ]
  },
  {
   "cell_type": "code",
   "execution_count": 107,
   "metadata": {},
   "outputs": [],
   "source": [
    "\n",
    "ls=[[2,0]]\n",
    "\n",
    "def multiplos(n):\n",
    "    if n!=1:\n",
    "        k=ls[-1][0]\n",
    "        s=True\n",
    "        if n%k==0:\n",
    "            ls[-1][1]+=1\n",
    "            s=False\n",
    "            multiplos(int(n/k))\n",
    "        M=n\n",
    "        k+=1\n",
    "        while k<M and s:\n",
    "            if n%k==0:\n",
    "                ls.append([k,1])\n",
    "                s=False\n",
    "                multiplos(int(n/k))\n",
    "            k+=1\n",
    "        if s:\n",
    "            ls.append([n,1])\n",
    "\n",
    "def descomposicion_primos(n):\n",
    "    multiplos(n)\n",
    "    global ls\n",
    "    lr=ls\n",
    "    ls=[[2,0]]\n",
    "    return lr\n",
    "\n",
    "def primos(n):\n",
    "    r=\"\"\n",
    "    lp = descomposicion_primos(n)\n",
    "    i=0\n",
    "    if lp[0][1]==0:\n",
    "        i=1\n",
    "    for i in lp[i:]:\n",
    "        r+=\"(\"\n",
    "        if i[1]==1:\n",
    "            r+=str(i[0])\n",
    "        else :\n",
    "            r+=str(i[0])+\"**\"+str(i[1])\n",
    "        r+=\")\"\n",
    "    return r\n",
    "\n",
    "    \n",
    "    "
   ]
  },
  {
   "cell_type": "code",
   "execution_count": 108,
   "metadata": {},
   "outputs": [],
   "source": [
    "def tiempo(n):\n",
    "    i=time()\n",
    "    lr=primos(n)\n",
    "    f=time()\n",
    "    return lr,f-i\n",
    "    "
   ]
  },
  {
   "cell_type": "code",
   "execution_count": 109,
   "metadata": {},
   "outputs": [
    {
     "data": {
      "text/plain": [
       "([[2, 0]], 61.28168487548828)"
      ]
     },
     "execution_count": 109,
     "metadata": {},
     "output_type": "execute_result"
    }
   ],
   "source": [
    "tiempo(512345021)"
   ]
  },
  {
   "cell_type": "code",
   "execution_count": 101,
   "metadata": {},
   "outputs": [
    {
     "data": {
      "text/plain": [
       "8.7738037109375e-05"
      ]
     },
     "execution_count": 101,
     "metadata": {},
     "output_type": "execute_result"
    }
   ],
   "source": [
    "tiempo_ejecucion"
   ]
  },
  {
   "cell_type": "code",
   "execution_count": null,
   "metadata": {},
   "outputs": [],
   "source": []
  }
 ],
 "metadata": {
  "kernelspec": {
   "display_name": "Python 3",
   "language": "python",
   "name": "python3"
  },
  "language_info": {
   "codemirror_mode": {
    "name": "ipython",
    "version": 3
   },
   "file_extension": ".py",
   "mimetype": "text/x-python",
   "name": "python",
   "nbconvert_exporter": "python",
   "pygments_lexer": "ipython3",
   "version": "3.6.7"
  }
 },
 "nbformat": 4,
 "nbformat_minor": 2
}
